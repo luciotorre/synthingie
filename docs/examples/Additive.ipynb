{
 "cells": [
  {
   "cell_type": "code",
   "execution_count": null,
   "metadata": {},
   "outputs": [],
   "source": [
    "import synthingie as st\n",
    "\n",
    "from functools import reduce\n",
    "import math\n"
   ]
  },
  {
   "cell_type": "code",
   "execution_count": null,
   "metadata": {},
   "outputs": [],
   "source": [
    "from bokeh.io import output_notebook, show\n",
    "output_notebook()"
   ]
  },
  {
   "cell_type": "code",
   "execution_count": null,
   "metadata": {},
   "outputs": [],
   "source": [
    "base_freq = 440\n",
    "num_harmonics = 10\n",
    "\n",
    "params = [ st.Parameter(1, \"Amplitude of harmonic %sx\" % (i,)) for i in range(1, num_harmonics + 1)]\n",
    "waves = [ st.Sin(i * 440, params[i - 1]) for i in range(1, num_harmonics + 1)]\n",
    "\n",
    "wave = reduce(lambda x, y: x + y, waves)"
   ]
  },
  {
   "cell_type": "code",
   "execution_count": null,
   "metadata": {},
   "outputs": [],
   "source": [
    "wave.live([st.live.Scope(wave)])"
   ]
  },
  {
   "cell_type": "code",
   "execution_count": null,
   "metadata": {},
   "outputs": [],
   "source": [
    "# Do a square wave\n",
    "for i, amp in enumerate(params):\n",
    "    if i % 2 != 0:\n",
    "        amp.set(0)\n",
    "    else:\n",
    "        amp.set((4 / math.pi) / (i + 1))"
   ]
  },
  {
   "cell_type": "code",
   "execution_count": null,
   "metadata": {},
   "outputs": [],
   "source": [
    "# Do a saw wave\n",
    "for i, amp in enumerate(params):\n",
    "    amp.set((2 / math.pi) / (i + 1))"
   ]
  },
  {
   "cell_type": "code",
   "execution_count": null,
   "metadata": {},
   "outputs": [],
   "source": [
    "# Do a triangle wave\n",
    "\n",
    "for i, amp in enumerate(params):\n",
    "    if i % 2 != 0:\n",
    "        amp.set(0)\n",
    "    else:\n",
    "        n = i + 1\n",
    "        factor = 8 / (math.pi ** 2)\n",
    "        num = (-1) ** (i / 2)\n",
    "        denom = n ** 2\n",
    "        amp.set(factor * num / denom)"
   ]
  },
  {
   "cell_type": "code",
   "execution_count": null,
   "metadata": {},
   "outputs": [],
   "source": []
  }
 ],
 "metadata": {
  "kernelspec": {
   "display_name": "Python 3",
   "language": "python",
   "name": "python3"
  },
  "language_info": {
   "codemirror_mode": {
    "name": "ipython",
    "version": 3
   },
   "file_extension": ".py",
   "mimetype": "text/x-python",
   "name": "python",
   "nbconvert_exporter": "python",
   "pygments_lexer": "ipython3",
   "version": "3.8.2"
  }
 },
 "nbformat": 4,
 "nbformat_minor": 4
}
