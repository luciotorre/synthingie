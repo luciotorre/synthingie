{
 "cells": [
  {
   "cell_type": "code",
   "execution_count": null,
   "metadata": {},
   "outputs": [],
   "source": [
    "import synthingie as st"
   ]
  },
  {
   "cell_type": "markdown",
   "metadata": {},
   "source": [
    "# Create a sound of raising pitch that repeats"
   ]
  },
  {
   "cell_type": "code",
   "execution_count": null,
   "metadata": {},
   "outputs": [],
   "source": [
    "step_s = 60\n",
    "duration = 180\n",
    "voices = 7\n",
    "base_freq = 22"
   ]
  },
  {
   "cell_type": "code",
   "execution_count": null,
   "metadata": {},
   "outputs": [],
   "source": [
    "mod = st.Module(48000, int(48000/60))"
   ]
  },
  {
   "cell_type": "code",
   "execution_count": null,
   "metadata": {},
   "outputs": [],
   "source": [
    "ramp = mod.ramp(0, voices / step_s) % voices     \n",
    "freq = base_freq * 2 ** (1 + ramp)\n",
    "pitch = mod.sin(freq)"
   ]
  },
  {
   "cell_type": "code",
   "execution_count": null,
   "metadata": {},
   "outputs": [],
   "source": [
    "mod.render(pitch, duration).display()"
   ]
  },
  {
   "cell_type": "markdown",
   "metadata": {},
   "source": [
    "# Create an envelope that fades out the start and end of the raise"
   ]
  },
  {
   "cell_type": "code",
   "execution_count": null,
   "metadata": {},
   "outputs": [],
   "source": [
    "# create the envelope\n",
    "amp = abs(mod.ramp(0.5, -1 / step_s) % 1 - 0.5) * 2\n",
    "envelope = amp ** 3\n",
    "    "
   ]
  },
  {
   "cell_type": "code",
   "execution_count": null,
   "metadata": {},
   "outputs": [],
   "source": [
    "mod.render(envelope, duration).display()"
   ]
  },
  {
   "cell_type": "markdown",
   "metadata": {},
   "source": [
    "# Mix them"
   ]
  },
  {
   "cell_type": "code",
   "execution_count": null,
   "metadata": {},
   "outputs": [],
   "source": [
    "base_signal = envelope * pitch\n",
    "mod.render(base_signal, duration).display()"
   ]
  },
  {
   "cell_type": "markdown",
   "metadata": {},
   "source": [
    "# Mix with delayed copies so that the frequencies are integer multiples"
   ]
  },
  {
   "cell_type": "code",
   "execution_count": null,
   "metadata": {},
   "outputs": [],
   "source": [
    "final_sound = base_signal\n",
    "for v in range(1, voices):\n",
    "    final_sound += base_signal.fixed_delay(v * step_s / voices) \n",
    "mod.render(final_sound, duration).display()"
   ]
  },
  {
   "cell_type": "markdown",
   "metadata": {},
   "source": [
    "# Refactor everything into one re usable function"
   ]
  },
  {
   "cell_type": "code",
   "execution_count": null,
   "metadata": {},
   "outputs": [],
   "source": [
    "def shepard(base_pitch):\n",
    "    duration = step_s * 5\n",
    "\n",
    "    # create the pitch\n",
    "    ramp = mod.ramp(0, voices / step_s) % voices     \n",
    "    freq = base_pitch * 2 ** (1 + ramp)\n",
    "    pitch = mod.sin(freq)\n",
    "    \n",
    "    # create the envelope\n",
    "    amp = abs(mod.ramp(0.5, -1 / step_s) % 1 - 0.5) * 2\n",
    "    amp = amp ** 3\n",
    "    \n",
    "    # mixit\n",
    "    base_signal = amp * pitch\n",
    "\n",
    "    # create voices\n",
    "    final_sound = base_signal\n",
    "    for v in range(1, voices):\n",
    "        final_sound += base_signal.fixed_delay(v * step_s / voices) \n",
    "    \n",
    "    return final_sound * (1/20.)"
   ]
  },
  {
   "cell_type": "markdown",
   "metadata": {},
   "source": [
    "# Add a fake chorus to hide it"
   ]
  },
  {
   "cell_type": "code",
   "execution_count": null,
   "metadata": {},
   "outputs": [],
   "source": [
    "fhz = 22\n",
    "s = shepard(base_freq) + shepard(fhz * 1.005) * 0.5 + shepard(fhz * 0.995) * 0.5\n",
    "mod.render(s, 180).display()"
   ]
  },
  {
   "cell_type": "code",
   "execution_count": null,
   "metadata": {},
   "outputs": [],
   "source": []
  }
 ],
 "metadata": {
  "kernelspec": {
   "display_name": "Python 3",
   "language": "python",
   "name": "python3"
  },
  "language_info": {
   "codemirror_mode": {
    "name": "ipython",
    "version": 3
   },
   "file_extension": ".py",
   "mimetype": "text/x-python",
   "name": "python",
   "nbconvert_exporter": "python",
   "pygments_lexer": "ipython3",
   "version": "3.8.2"
  }
 },
 "nbformat": 4,
 "nbformat_minor": 4
}
